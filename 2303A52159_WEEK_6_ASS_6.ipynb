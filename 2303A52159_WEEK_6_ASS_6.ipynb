{
  "nbformat": 4,
  "nbformat_minor": 0,
  "metadata": {
    "colab": {
      "provenance": [],
      "authorship_tag": "ABX9TyM1ssM/NUEegIJzUYNYcQqA",
      "include_colab_link": true
    },
    "kernelspec": {
      "name": "python3",
      "display_name": "Python 3"
    },
    "language_info": {
      "name": "python"
    }
  },
  "cells": [
    {
      "cell_type": "markdown",
      "metadata": {
        "id": "view-in-github",
        "colab_type": "text"
      },
      "source": [
        "<a href=\"https://colab.research.google.com/github/thotasriharsha/GENERATIVE-AI2/blob/main/2303A52159_WEEK_6_ASS_6.ipynb\" target=\"_parent\"><img src=\"https://colab.research.google.com/assets/colab-badge.svg\" alt=\"Open In Colab\"/></a>"
      ]
    },
    {
      "cell_type": "code",
      "execution_count": 1,
      "metadata": {
        "id": "ddzbDYuacA-S"
      },
      "outputs": [],
      "source": [
        "import pandas as pd\n",
        "from sklearn.model_selection import train_test_split\n",
        "from sklearn.preprocessing import StandardScaler\n",
        "import numpy as np\n",
        "from sklearn.preprocessing import OneHotEncoder\n",
        "\n",
        "# Load dataset (Assuming CSV format after extracting from Google Drive)\n",
        "url = '/content/Housing.csv'  # Replace this with the actual dataset path\n",
        "df = pd.read_csv(url)\n",
        "\n",
        "# Split the dataset into input features and target variable (housing prices)\n",
        "X = df.drop('price', axis=1)  # Assuming 'price' is the target variable\n",
        "y = df['price']\n",
        "\n",
        "# Split the dataset into training and testing sets\n",
        "X_train, X_test, y_train, y_test = train_test_split(X, y, test_size=0.2, random_state=42)\n",
        "\n",
        "# Identify categorical features (columns with object dtype)\n",
        "categorical_features = X_train.select_dtypes(include=['object']).columns\n",
        "\n",
        "# Create and fit OneHotEncoder for categorical features\n",
        "encoder = OneHotEncoder(sparse_output=False, handle_unknown='ignore') # sparse=False for numpy array\n",
        "encoded_features_train = encoder.fit_transform(X_train[categorical_features])\n",
        "encoded_features_test = encoder.transform(X_test[categorical_features])\n",
        "\n",
        "# Create DataFrames for encoded features\n",
        "encoded_df_train = pd.DataFrame(encoded_features_train, columns=encoder.get_feature_names_out(categorical_features), index=X_train.index)\n",
        "encoded_df_test = pd.DataFrame(encoded_features_test, columns=encoder.get_feature_names_out(categorical_features), index=X_test.index)\n",
        "\n",
        "# Drop original categorical columns and concatenate encoded features\n",
        "X_train = X_train.drop(categorical_features, axis=1)\n",
        "X_test = X_test.drop(categorical_features, axis=1)\n",
        "X_train = pd.concat([X_train, encoded_df_train], axis=1)\n",
        "X_test = pd.concat([X_test, encoded_df_test], axis=1)\n",
        "\n",
        "\n",
        "# Normalize the data\n",
        "scaler = StandardScaler()\n",
        "X_train = scaler.fit_transform(X_train)\n",
        "X_test = scaler.transform(X_test)"
      ]
    },
    {
      "cell_type": "code",
      "source": [
        "from tensorflow.keras.models import Sequential\n",
        "from tensorflow.keras.layers import Dense\n",
        "from tensorflow.keras.optimizers import SGD\n",
        "from tensorflow.keras.metrics import MeanSquaredError\n",
        "\n",
        "# Define the ANN model\n",
        "model = Sequential()\n",
        "\n",
        "# Hidden Layer 1\n",
        "model.add(Dense(15, input_dim=X_train.shape[1], activation='tanh'))\n",
        "\n",
        "# Hidden Layer 2\n",
        "model.add(Dense(20, activation='tanh'))\n",
        "\n",
        "# Hidden Layer 3\n",
        "model.add(Dense(15, activation='tanh'))\n",
        "\n",
        "# Output layer (Assuming it's a regression problem, one neuron for price prediction)\n",
        "model.add(Dense(1))\n",
        "\n",
        "# Compile the model\n",
        "model.compile(loss='mean_squared_error',\n",
        "              optimizer=SGD(),\n",
        "              metrics=[MeanSquaredError()])\n"
      ],
      "metadata": {
        "colab": {
          "base_uri": "https://localhost:8080/"
        },
        "id": "l4DeCT1bclxF",
        "outputId": "6b60afe6-809c-4b1c-e5eb-2b203fdfb00f"
      },
      "execution_count": 2,
      "outputs": [
        {
          "output_type": "stream",
          "name": "stderr",
          "text": [
            "/usr/local/lib/python3.11/dist-packages/keras/src/layers/core/dense.py:87: UserWarning: Do not pass an `input_shape`/`input_dim` argument to a layer. When using Sequential models, prefer using an `Input(shape)` object as the first layer in the model instead.\n",
            "  super().__init__(activity_regularizer=activity_regularizer, **kwargs)\n"
          ]
        }
      ]
    },
    {
      "cell_type": "code",
      "source": [
        "# Train the model\n",
        "history = model.fit(X_train, y_train,\n",
        "                    epochs=100,\n",
        "                    batch_size=16,\n",
        "                    validation_data=(X_test, y_test))\n"
      ],
      "metadata": {
        "colab": {
          "base_uri": "https://localhost:8080/"
        },
        "id": "wFBNK-NLcsGV",
        "outputId": "73a3badc-b6a8-4176-9706-b8fecc8a06b9"
      },
      "execution_count": 3,
      "outputs": [
        {
          "output_type": "stream",
          "name": "stdout",
          "text": [
            "Epoch 1/100\n",
            "\u001b[1m28/28\u001b[0m \u001b[32m━━━━━━━━━━━━━━━━━━━━\u001b[0m\u001b[37m\u001b[0m \u001b[1m1s\u001b[0m 12ms/step - loss: 7911046119424.0000 - mean_squared_error: 7911046119424.0000 - val_loss: 5122810707968.0000 - val_mean_squared_error: 5122810707968.0000\n",
            "Epoch 2/100\n",
            "\u001b[1m28/28\u001b[0m \u001b[32m━━━━━━━━━━━━━━━━━━━━\u001b[0m\u001b[37m\u001b[0m \u001b[1m1s\u001b[0m 22ms/step - loss: 3599914762240.0000 - mean_squared_error: 3599914762240.0000 - val_loss: 5139539689472.0000 - val_mean_squared_error: 5139539689472.0000\n",
            "Epoch 3/100\n",
            "\u001b[1m28/28\u001b[0m \u001b[32m━━━━━━━━━━━━━━━━━━━━\u001b[0m\u001b[37m\u001b[0m \u001b[1m1s\u001b[0m 19ms/step - loss: 3186614075392.0000 - mean_squared_error: 3186614075392.0000 - val_loss: 5097438838784.0000 - val_mean_squared_error: 5097438838784.0000\n",
            "Epoch 4/100\n",
            "\u001b[1m28/28\u001b[0m \u001b[32m━━━━━━━━━━━━━━━━━━━━\u001b[0m\u001b[37m\u001b[0m \u001b[1m1s\u001b[0m 22ms/step - loss: 4106011803648.0000 - mean_squared_error: 4106011803648.0000 - val_loss: 5073428021248.0000 - val_mean_squared_error: 5073428021248.0000\n",
            "Epoch 5/100\n",
            "\u001b[1m28/28\u001b[0m \u001b[32m━━━━━━━━━━━━━━━━━━━━\u001b[0m\u001b[37m\u001b[0m \u001b[1m1s\u001b[0m 19ms/step - loss: 3394871230464.0000 - mean_squared_error: 3394871230464.0000 - val_loss: 5150127161344.0000 - val_mean_squared_error: 5150127161344.0000\n",
            "Epoch 6/100\n",
            "\u001b[1m28/28\u001b[0m \u001b[32m━━━━━━━━━━━━━━━━━━━━\u001b[0m\u001b[37m\u001b[0m \u001b[1m0s\u001b[0m 12ms/step - loss: 3173785010176.0000 - mean_squared_error: 3173785010176.0000 - val_loss: 5058097840128.0000 - val_mean_squared_error: 5058097840128.0000\n",
            "Epoch 7/100\n",
            "\u001b[1m28/28\u001b[0m \u001b[32m━━━━━━━━━━━━━━━━━━━━\u001b[0m\u001b[37m\u001b[0m \u001b[1m1s\u001b[0m 11ms/step - loss: 3229231349760.0000 - mean_squared_error: 3229231349760.0000 - val_loss: 5084459040768.0000 - val_mean_squared_error: 5084459040768.0000\n",
            "Epoch 8/100\n",
            "\u001b[1m28/28\u001b[0m \u001b[32m━━━━━━━━━━━━━━━━━━━━\u001b[0m\u001b[37m\u001b[0m \u001b[1m1s\u001b[0m 15ms/step - loss: 3376214704128.0000 - mean_squared_error: 3376214704128.0000 - val_loss: 5372435759104.0000 - val_mean_squared_error: 5372435759104.0000\n",
            "Epoch 9/100\n",
            "\u001b[1m28/28\u001b[0m \u001b[32m━━━━━━━━━━━━━━━━━━━━\u001b[0m\u001b[37m\u001b[0m \u001b[1m1s\u001b[0m 19ms/step - loss: 3159654400000.0000 - mean_squared_error: 3159654400000.0000 - val_loss: 5426492997632.0000 - val_mean_squared_error: 5426492997632.0000\n",
            "Epoch 10/100\n",
            "\u001b[1m28/28\u001b[0m \u001b[32m━━━━━━━━━━━━━━━━━━━━\u001b[0m\u001b[37m\u001b[0m \u001b[1m1s\u001b[0m 8ms/step - loss: 3381355872256.0000 - mean_squared_error: 3381355872256.0000 - val_loss: 5202731597824.0000 - val_mean_squared_error: 5202731597824.0000\n",
            "Epoch 11/100\n",
            "\u001b[1m28/28\u001b[0m \u001b[32m━━━━━━━━━━━━━━━━━━━━\u001b[0m\u001b[37m\u001b[0m \u001b[1m0s\u001b[0m 4ms/step - loss: 3248748232704.0000 - mean_squared_error: 3248748232704.0000 - val_loss: 5321408905216.0000 - val_mean_squared_error: 5321408905216.0000\n",
            "Epoch 12/100\n",
            "\u001b[1m28/28\u001b[0m \u001b[32m━━━━━━━━━━━━━━━━━━━━\u001b[0m\u001b[37m\u001b[0m \u001b[1m0s\u001b[0m 6ms/step - loss: 2604739330048.0000 - mean_squared_error: 2604739330048.0000 - val_loss: 5055318589440.0000 - val_mean_squared_error: 5055318589440.0000\n",
            "Epoch 13/100\n",
            "\u001b[1m28/28\u001b[0m \u001b[32m━━━━━━━━━━━━━━━━━━━━\u001b[0m\u001b[37m\u001b[0m \u001b[1m0s\u001b[0m 4ms/step - loss: 3014374195200.0000 - mean_squared_error: 3014374195200.0000 - val_loss: 5340945973248.0000 - val_mean_squared_error: 5340945973248.0000\n",
            "Epoch 14/100\n",
            "\u001b[1m28/28\u001b[0m \u001b[32m━━━━━━━━━━━━━━━━━━━━\u001b[0m\u001b[37m\u001b[0m \u001b[1m0s\u001b[0m 6ms/step - loss: 3389207609344.0000 - mean_squared_error: 3389207609344.0000 - val_loss: 5199893626880.0000 - val_mean_squared_error: 5199893626880.0000\n",
            "Epoch 15/100\n",
            "\u001b[1m28/28\u001b[0m \u001b[32m━━━━━━━━━━━━━━━━━━━━\u001b[0m\u001b[37m\u001b[0m \u001b[1m0s\u001b[0m 5ms/step - loss: 3064346705920.0000 - mean_squared_error: 3064346705920.0000 - val_loss: 5148121235456.0000 - val_mean_squared_error: 5148121235456.0000\n",
            "Epoch 16/100\n",
            "\u001b[1m28/28\u001b[0m \u001b[32m━━━━━━━━━━━━━━━━━━━━\u001b[0m\u001b[37m\u001b[0m \u001b[1m0s\u001b[0m 4ms/step - loss: 3249278287872.0000 - mean_squared_error: 3249278287872.0000 - val_loss: 5069948846080.0000 - val_mean_squared_error: 5069948846080.0000\n",
            "Epoch 17/100\n",
            "\u001b[1m28/28\u001b[0m \u001b[32m━━━━━━━━━━━━━━━━━━━━\u001b[0m\u001b[37m\u001b[0m \u001b[1m0s\u001b[0m 4ms/step - loss: 3705412780032.0000 - mean_squared_error: 3705412780032.0000 - val_loss: 5059152707584.0000 - val_mean_squared_error: 5059152707584.0000\n",
            "Epoch 18/100\n",
            "\u001b[1m28/28\u001b[0m \u001b[32m━━━━━━━━━━━━━━━━━━━━\u001b[0m\u001b[37m\u001b[0m \u001b[1m0s\u001b[0m 4ms/step - loss: 3115893391360.0000 - mean_squared_error: 3115893391360.0000 - val_loss: 5114779140096.0000 - val_mean_squared_error: 5114779140096.0000\n",
            "Epoch 19/100\n",
            "\u001b[1m28/28\u001b[0m \u001b[32m━━━━━━━━━━━━━━━━━━━━\u001b[0m\u001b[37m\u001b[0m \u001b[1m0s\u001b[0m 6ms/step - loss: 2798227554304.0000 - mean_squared_error: 2798227554304.0000 - val_loss: 5055783108608.0000 - val_mean_squared_error: 5055783108608.0000\n",
            "Epoch 20/100\n",
            "\u001b[1m28/28\u001b[0m \u001b[32m━━━━━━━━━━━━━━━━━━━━\u001b[0m\u001b[37m\u001b[0m \u001b[1m0s\u001b[0m 4ms/step - loss: 2941141385216.0000 - mean_squared_error: 2941141385216.0000 - val_loss: 5065676947456.0000 - val_mean_squared_error: 5065676947456.0000\n",
            "Epoch 21/100\n",
            "\u001b[1m28/28\u001b[0m \u001b[32m━━━━━━━━━━━━━━━━━━━━\u001b[0m\u001b[37m\u001b[0m \u001b[1m0s\u001b[0m 5ms/step - loss: 3371614076928.0000 - mean_squared_error: 3371614076928.0000 - val_loss: 5168566894592.0000 - val_mean_squared_error: 5168566894592.0000\n",
            "Epoch 22/100\n",
            "\u001b[1m28/28\u001b[0m \u001b[32m━━━━━━━━━━━━━━━━━━━━\u001b[0m\u001b[37m\u001b[0m \u001b[1m0s\u001b[0m 4ms/step - loss: 3157200470016.0000 - mean_squared_error: 3157200470016.0000 - val_loss: 5513970974720.0000 - val_mean_squared_error: 5513970974720.0000\n",
            "Epoch 23/100\n",
            "\u001b[1m28/28\u001b[0m \u001b[32m━━━━━━━━━━━━━━━━━━━━\u001b[0m\u001b[37m\u001b[0m \u001b[1m0s\u001b[0m 5ms/step - loss: 2912602554368.0000 - mean_squared_error: 2912602554368.0000 - val_loss: 5174430007296.0000 - val_mean_squared_error: 5174430007296.0000\n",
            "Epoch 24/100\n",
            "\u001b[1m28/28\u001b[0m \u001b[32m━━━━━━━━━━━━━━━━━━━━\u001b[0m\u001b[37m\u001b[0m \u001b[1m0s\u001b[0m 4ms/step - loss: 3227571453952.0000 - mean_squared_error: 3227571453952.0000 - val_loss: 5233881645056.0000 - val_mean_squared_error: 5233881645056.0000\n",
            "Epoch 25/100\n",
            "\u001b[1m28/28\u001b[0m \u001b[32m━━━━━━━━━━━━━━━━━━━━\u001b[0m\u001b[37m\u001b[0m \u001b[1m0s\u001b[0m 6ms/step - loss: 3117921861632.0000 - mean_squared_error: 3117921861632.0000 - val_loss: 5070787182592.0000 - val_mean_squared_error: 5070787182592.0000\n",
            "Epoch 26/100\n",
            "\u001b[1m28/28\u001b[0m \u001b[32m━━━━━━━━━━━━━━━━━━━━\u001b[0m\u001b[37m\u001b[0m \u001b[1m0s\u001b[0m 4ms/step - loss: 2810472300544.0000 - mean_squared_error: 2810472300544.0000 - val_loss: 5162740482048.0000 - val_mean_squared_error: 5162740482048.0000\n",
            "Epoch 27/100\n",
            "\u001b[1m28/28\u001b[0m \u001b[32m━━━━━━━━━━━━━━━━━━━━\u001b[0m\u001b[37m\u001b[0m \u001b[1m0s\u001b[0m 4ms/step - loss: 2891111989248.0000 - mean_squared_error: 2891111989248.0000 - val_loss: 5351287029760.0000 - val_mean_squared_error: 5351287029760.0000\n",
            "Epoch 28/100\n",
            "\u001b[1m28/28\u001b[0m \u001b[32m━━━━━━━━━━━━━━━━━━━━\u001b[0m\u001b[37m\u001b[0m \u001b[1m0s\u001b[0m 4ms/step - loss: 3344829513728.0000 - mean_squared_error: 3344829513728.0000 - val_loss: 5677925269504.0000 - val_mean_squared_error: 5677925269504.0000\n",
            "Epoch 29/100\n",
            "\u001b[1m28/28\u001b[0m \u001b[32m━━━━━━━━━━━━━━━━━━━━\u001b[0m\u001b[37m\u001b[0m \u001b[1m0s\u001b[0m 4ms/step - loss: 2797339148288.0000 - mean_squared_error: 2797339148288.0000 - val_loss: 5616273195008.0000 - val_mean_squared_error: 5616273195008.0000\n",
            "Epoch 30/100\n",
            "\u001b[1m28/28\u001b[0m \u001b[32m━━━━━━━━━━━━━━━━━━━━\u001b[0m\u001b[37m\u001b[0m \u001b[1m0s\u001b[0m 4ms/step - loss: 3378893815808.0000 - mean_squared_error: 3378893815808.0000 - val_loss: 5134849409024.0000 - val_mean_squared_error: 5134849409024.0000\n",
            "Epoch 31/100\n",
            "\u001b[1m28/28\u001b[0m \u001b[32m━━━━━━━━━━━━━━━━━━━━\u001b[0m\u001b[37m\u001b[0m \u001b[1m0s\u001b[0m 6ms/step - loss: 3139767369728.0000 - mean_squared_error: 3139767369728.0000 - val_loss: 5199919316992.0000 - val_mean_squared_error: 5199918792704.0000\n",
            "Epoch 32/100\n",
            "\u001b[1m28/28\u001b[0m \u001b[32m━━━━━━━━━━━━━━━━━━━━\u001b[0m\u001b[37m\u001b[0m \u001b[1m0s\u001b[0m 4ms/step - loss: 3004389916672.0000 - mean_squared_error: 3004389916672.0000 - val_loss: 5063982972928.0000 - val_mean_squared_error: 5063982972928.0000\n",
            "Epoch 33/100\n",
            "\u001b[1m28/28\u001b[0m \u001b[32m━━━━━━━━━━━━━━━━━━━━\u001b[0m\u001b[37m\u001b[0m \u001b[1m0s\u001b[0m 4ms/step - loss: 2894184054784.0000 - mean_squared_error: 2894184054784.0000 - val_loss: 5359555051520.0000 - val_mean_squared_error: 5359555051520.0000\n",
            "Epoch 34/100\n",
            "\u001b[1m28/28\u001b[0m \u001b[32m━━━━━━━━━━━━━━━━━━━━\u001b[0m\u001b[37m\u001b[0m \u001b[1m0s\u001b[0m 4ms/step - loss: 3221749497856.0000 - mean_squared_error: 3221749497856.0000 - val_loss: 5092842930176.0000 - val_mean_squared_error: 5092842930176.0000\n",
            "Epoch 35/100\n",
            "\u001b[1m28/28\u001b[0m \u001b[32m━━━━━━━━━━━━━━━━━━━━\u001b[0m\u001b[37m\u001b[0m \u001b[1m0s\u001b[0m 5ms/step - loss: 2959426191360.0000 - mean_squared_error: 2959426191360.0000 - val_loss: 5354738941952.0000 - val_mean_squared_error: 5354738941952.0000\n",
            "Epoch 36/100\n",
            "\u001b[1m28/28\u001b[0m \u001b[32m━━━━━━━━━━━━━━━━━━━━\u001b[0m\u001b[37m\u001b[0m \u001b[1m0s\u001b[0m 7ms/step - loss: 2971497136128.0000 - mean_squared_error: 2971497136128.0000 - val_loss: 5064237776896.0000 - val_mean_squared_error: 5064237776896.0000\n",
            "Epoch 37/100\n",
            "\u001b[1m28/28\u001b[0m \u001b[32m━━━━━━━━━━━━━━━━━━━━\u001b[0m\u001b[37m\u001b[0m \u001b[1m0s\u001b[0m 7ms/step - loss: 3090706071552.0000 - mean_squared_error: 3090706071552.0000 - val_loss: 5208002265088.0000 - val_mean_squared_error: 5208002265088.0000\n",
            "Epoch 38/100\n",
            "\u001b[1m28/28\u001b[0m \u001b[32m━━━━━━━━━━━━━━━━━━━━\u001b[0m\u001b[37m\u001b[0m \u001b[1m0s\u001b[0m 6ms/step - loss: 3143132774400.0000 - mean_squared_error: 3143132774400.0000 - val_loss: 5291109253120.0000 - val_mean_squared_error: 5291109253120.0000\n",
            "Epoch 39/100\n",
            "\u001b[1m28/28\u001b[0m \u001b[32m━━━━━━━━━━━━━━━━━━━━\u001b[0m\u001b[37m\u001b[0m \u001b[1m0s\u001b[0m 8ms/step - loss: 3142831570944.0000 - mean_squared_error: 3142831570944.0000 - val_loss: 5150262951936.0000 - val_mean_squared_error: 5150262951936.0000\n",
            "Epoch 40/100\n",
            "\u001b[1m28/28\u001b[0m \u001b[32m━━━━━━━━━━━━━━━━━━━━\u001b[0m\u001b[37m\u001b[0m \u001b[1m0s\u001b[0m 7ms/step - loss: 3210759897088.0000 - mean_squared_error: 3210759897088.0000 - val_loss: 5224072740864.0000 - val_mean_squared_error: 5224072740864.0000\n",
            "Epoch 41/100\n",
            "\u001b[1m28/28\u001b[0m \u001b[32m━━━━━━━━━━━━━━━━━━━━\u001b[0m\u001b[37m\u001b[0m \u001b[1m0s\u001b[0m 7ms/step - loss: 3003557871616.0000 - mean_squared_error: 3003557871616.0000 - val_loss: 5177222889472.0000 - val_mean_squared_error: 5177222889472.0000\n",
            "Epoch 42/100\n",
            "\u001b[1m28/28\u001b[0m \u001b[32m━━━━━━━━━━━━━━━━━━━━\u001b[0m\u001b[37m\u001b[0m \u001b[1m0s\u001b[0m 7ms/step - loss: 2807121838080.0000 - mean_squared_error: 2807121838080.0000 - val_loss: 5083783233536.0000 - val_mean_squared_error: 5083783233536.0000\n",
            "Epoch 43/100\n",
            "\u001b[1m28/28\u001b[0m \u001b[32m━━━━━━━━━━━━━━━━━━━━\u001b[0m\u001b[37m\u001b[0m \u001b[1m0s\u001b[0m 8ms/step - loss: 3195471659008.0000 - mean_squared_error: 3195471659008.0000 - val_loss: 5229878181888.0000 - val_mean_squared_error: 5229878181888.0000\n",
            "Epoch 44/100\n",
            "\u001b[1m28/28\u001b[0m \u001b[32m━━━━━━━━━━━━━━━━━━━━\u001b[0m\u001b[37m\u001b[0m \u001b[1m0s\u001b[0m 4ms/step - loss: 3244562055168.0000 - mean_squared_error: 3244562055168.0000 - val_loss: 5331549159424.0000 - val_mean_squared_error: 5331549159424.0000\n",
            "Epoch 45/100\n",
            "\u001b[1m28/28\u001b[0m \u001b[32m━━━━━━━━━━━━━━━━━━━━\u001b[0m\u001b[37m\u001b[0m \u001b[1m0s\u001b[0m 4ms/step - loss: 3477887778816.0000 - mean_squared_error: 3477887778816.0000 - val_loss: 5097902309376.0000 - val_mean_squared_error: 5097902309376.0000\n",
            "Epoch 46/100\n",
            "\u001b[1m28/28\u001b[0m \u001b[32m━━━━━━━━━━━━━━━━━━━━\u001b[0m\u001b[37m\u001b[0m \u001b[1m0s\u001b[0m 4ms/step - loss: 3616908771328.0000 - mean_squared_error: 3616908771328.0000 - val_loss: 5851747188736.0000 - val_mean_squared_error: 5851747188736.0000\n",
            "Epoch 47/100\n",
            "\u001b[1m28/28\u001b[0m \u001b[32m━━━━━━━━━━━━━━━━━━━━\u001b[0m\u001b[37m\u001b[0m \u001b[1m0s\u001b[0m 4ms/step - loss: 3212425035776.0000 - mean_squared_error: 3212425035776.0000 - val_loss: 5112705056768.0000 - val_mean_squared_error: 5112705056768.0000\n",
            "Epoch 48/100\n",
            "\u001b[1m28/28\u001b[0m \u001b[32m━━━━━━━━━━━━━━━━━━━━\u001b[0m\u001b[37m\u001b[0m \u001b[1m0s\u001b[0m 4ms/step - loss: 3049748430848.0000 - mean_squared_error: 3049748430848.0000 - val_loss: 5065932800000.0000 - val_mean_squared_error: 5065932800000.0000\n",
            "Epoch 49/100\n",
            "\u001b[1m28/28\u001b[0m \u001b[32m━━━━━━━━━━━━━━━━━━━━\u001b[0m\u001b[37m\u001b[0m \u001b[1m0s\u001b[0m 5ms/step - loss: 3442728763392.0000 - mean_squared_error: 3442728763392.0000 - val_loss: 5275787460608.0000 - val_mean_squared_error: 5275787460608.0000\n",
            "Epoch 50/100\n",
            "\u001b[1m28/28\u001b[0m \u001b[32m━━━━━━━━━━━━━━━━━━━━\u001b[0m\u001b[37m\u001b[0m \u001b[1m0s\u001b[0m 5ms/step - loss: 2974233657344.0000 - mean_squared_error: 2974233657344.0000 - val_loss: 5096191033344.0000 - val_mean_squared_error: 5096191033344.0000\n",
            "Epoch 51/100\n",
            "\u001b[1m28/28\u001b[0m \u001b[32m━━━━━━━━━━━━━━━━━━━━\u001b[0m\u001b[37m\u001b[0m \u001b[1m0s\u001b[0m 5ms/step - loss: 3354401701888.0000 - mean_squared_error: 3354401701888.0000 - val_loss: 5110040100864.0000 - val_mean_squared_error: 5110040100864.0000\n",
            "Epoch 52/100\n",
            "\u001b[1m28/28\u001b[0m \u001b[32m━━━━━━━━━━━━━━━━━━━━\u001b[0m\u001b[37m\u001b[0m \u001b[1m0s\u001b[0m 5ms/step - loss: 3274596679680.0000 - mean_squared_error: 3274596679680.0000 - val_loss: 5198008811520.0000 - val_mean_squared_error: 5198008811520.0000\n",
            "Epoch 53/100\n",
            "\u001b[1m28/28\u001b[0m \u001b[32m━━━━━━━━━━━━━━━━━━━━\u001b[0m\u001b[37m\u001b[0m \u001b[1m0s\u001b[0m 4ms/step - loss: 2995202555904.0000 - mean_squared_error: 2995202555904.0000 - val_loss: 5075547193344.0000 - val_mean_squared_error: 5075547193344.0000\n",
            "Epoch 54/100\n",
            "\u001b[1m28/28\u001b[0m \u001b[32m━━━━━━━━━━━━━━━━━━━━\u001b[0m\u001b[37m\u001b[0m \u001b[1m0s\u001b[0m 4ms/step - loss: 3300432281600.0000 - mean_squared_error: 3300432281600.0000 - val_loss: 5121542455296.0000 - val_mean_squared_error: 5121542455296.0000\n",
            "Epoch 55/100\n",
            "\u001b[1m28/28\u001b[0m \u001b[32m━━━━━━━━━━━━━━━━━━━━\u001b[0m\u001b[37m\u001b[0m \u001b[1m0s\u001b[0m 4ms/step - loss: 3187493306368.0000 - mean_squared_error: 3187493306368.0000 - val_loss: 5343021629440.0000 - val_mean_squared_error: 5343021629440.0000\n",
            "Epoch 56/100\n",
            "\u001b[1m28/28\u001b[0m \u001b[32m━━━━━━━━━━━━━━━━━━━━\u001b[0m\u001b[37m\u001b[0m \u001b[1m0s\u001b[0m 5ms/step - loss: 3237593219072.0000 - mean_squared_error: 3237593219072.0000 - val_loss: 5668356489216.0000 - val_mean_squared_error: 5668356489216.0000\n",
            "Epoch 57/100\n",
            "\u001b[1m28/28\u001b[0m \u001b[32m━━━━━━━━━━━━━━━━━━━━\u001b[0m\u001b[37m\u001b[0m \u001b[1m0s\u001b[0m 5ms/step - loss: 3982805696512.0000 - mean_squared_error: 3982805696512.0000 - val_loss: 5285264490496.0000 - val_mean_squared_error: 5285264490496.0000\n",
            "Epoch 58/100\n",
            "\u001b[1m28/28\u001b[0m \u001b[32m━━━━━━━━━━━━━━━━━━━━\u001b[0m\u001b[37m\u001b[0m \u001b[1m0s\u001b[0m 6ms/step - loss: 3409786437632.0000 - mean_squared_error: 3409786437632.0000 - val_loss: 5104157589504.0000 - val_mean_squared_error: 5104157589504.0000\n",
            "Epoch 59/100\n",
            "\u001b[1m28/28\u001b[0m \u001b[32m━━━━━━━━━━━━━━━━━━━━\u001b[0m\u001b[37m\u001b[0m \u001b[1m0s\u001b[0m 5ms/step - loss: 3858900713472.0000 - mean_squared_error: 3858900713472.0000 - val_loss: 5445721260032.0000 - val_mean_squared_error: 5445721260032.0000\n",
            "Epoch 60/100\n",
            "\u001b[1m28/28\u001b[0m \u001b[32m━━━━━━━━━━━━━━━━━━━━\u001b[0m\u001b[37m\u001b[0m \u001b[1m0s\u001b[0m 6ms/step - loss: 3292430336000.0000 - mean_squared_error: 3292430336000.0000 - val_loss: 5421947944960.0000 - val_mean_squared_error: 5421947944960.0000\n",
            "Epoch 61/100\n",
            "\u001b[1m28/28\u001b[0m \u001b[32m━━━━━━━━━━━━━━━━━━━━\u001b[0m\u001b[37m\u001b[0m \u001b[1m0s\u001b[0m 5ms/step - loss: 3570671026176.0000 - mean_squared_error: 3570671026176.0000 - val_loss: 5327609135104.0000 - val_mean_squared_error: 5327609135104.0000\n",
            "Epoch 62/100\n",
            "\u001b[1m28/28\u001b[0m \u001b[32m━━━━━━━━━━━━━━━━━━━━\u001b[0m\u001b[37m\u001b[0m \u001b[1m0s\u001b[0m 6ms/step - loss: 3220486750208.0000 - mean_squared_error: 3220486750208.0000 - val_loss: 5156575903744.0000 - val_mean_squared_error: 5156575903744.0000\n",
            "Epoch 63/100\n",
            "\u001b[1m28/28\u001b[0m \u001b[32m━━━━━━━━━━━━━━━━━━━━\u001b[0m\u001b[37m\u001b[0m \u001b[1m0s\u001b[0m 5ms/step - loss: 3433509945344.0000 - mean_squared_error: 3433509945344.0000 - val_loss: 5078849159168.0000 - val_mean_squared_error: 5078849159168.0000\n",
            "Epoch 64/100\n",
            "\u001b[1m28/28\u001b[0m \u001b[32m━━━━━━━━━━━━━━━━━━━━\u001b[0m\u001b[37m\u001b[0m \u001b[1m0s\u001b[0m 5ms/step - loss: 3269367431168.0000 - mean_squared_error: 3269367431168.0000 - val_loss: 5783303487488.0000 - val_mean_squared_error: 5783303487488.0000\n",
            "Epoch 65/100\n",
            "\u001b[1m28/28\u001b[0m \u001b[32m━━━━━━━━━━━━━━━━━━━━\u001b[0m\u001b[37m\u001b[0m \u001b[1m0s\u001b[0m 5ms/step - loss: 3495120076800.0000 - mean_squared_error: 3495120076800.0000 - val_loss: 5056984252416.0000 - val_mean_squared_error: 5056984252416.0000\n",
            "Epoch 66/100\n",
            "\u001b[1m28/28\u001b[0m \u001b[32m━━━━━━━━━━━━━━━━━━━━\u001b[0m\u001b[37m\u001b[0m \u001b[1m0s\u001b[0m 6ms/step - loss: 3255680892928.0000 - mean_squared_error: 3255680892928.0000 - val_loss: 5251751477248.0000 - val_mean_squared_error: 5251751477248.0000\n",
            "Epoch 67/100\n",
            "\u001b[1m28/28\u001b[0m \u001b[32m━━━━━━━━━━━━━━━━━━━━\u001b[0m\u001b[37m\u001b[0m \u001b[1m0s\u001b[0m 5ms/step - loss: 3097827475456.0000 - mean_squared_error: 3097827475456.0000 - val_loss: 5482058088448.0000 - val_mean_squared_error: 5482058088448.0000\n",
            "Epoch 68/100\n",
            "\u001b[1m28/28\u001b[0m \u001b[32m━━━━━━━━━━━━━━━━━━━━\u001b[0m\u001b[37m\u001b[0m \u001b[1m0s\u001b[0m 6ms/step - loss: 3709962289152.0000 - mean_squared_error: 3709962289152.0000 - val_loss: 5503315345408.0000 - val_mean_squared_error: 5503315345408.0000\n",
            "Epoch 69/100\n",
            "\u001b[1m28/28\u001b[0m \u001b[32m━━━━━━━━━━━━━━━━━━━━\u001b[0m\u001b[37m\u001b[0m \u001b[1m0s\u001b[0m 5ms/step - loss: 3622872547328.0000 - mean_squared_error: 3622872547328.0000 - val_loss: 5105335140352.0000 - val_mean_squared_error: 5105335140352.0000\n",
            "Epoch 70/100\n",
            "\u001b[1m28/28\u001b[0m \u001b[32m━━━━━━━━━━━━━━━━━━━━\u001b[0m\u001b[37m\u001b[0m \u001b[1m0s\u001b[0m 5ms/step - loss: 3383507025920.0000 - mean_squared_error: 3383507025920.0000 - val_loss: 5152405716992.0000 - val_mean_squared_error: 5152405716992.0000\n",
            "Epoch 71/100\n",
            "\u001b[1m28/28\u001b[0m \u001b[32m━━━━━━━━━━━━━━━━━━━━\u001b[0m\u001b[37m\u001b[0m \u001b[1m0s\u001b[0m 5ms/step - loss: 3269018517504.0000 - mean_squared_error: 3269018517504.0000 - val_loss: 5097498083328.0000 - val_mean_squared_error: 5097498083328.0000\n",
            "Epoch 72/100\n",
            "\u001b[1m28/28\u001b[0m \u001b[32m━━━━━━━━━━━━━━━━━━━━\u001b[0m\u001b[37m\u001b[0m \u001b[1m0s\u001b[0m 5ms/step - loss: 3201374355456.0000 - mean_squared_error: 3201374355456.0000 - val_loss: 5300825358336.0000 - val_mean_squared_error: 5300825358336.0000\n",
            "Epoch 73/100\n",
            "\u001b[1m28/28\u001b[0m \u001b[32m━━━━━━━━━━━━━━━━━━━━\u001b[0m\u001b[37m\u001b[0m \u001b[1m0s\u001b[0m 6ms/step - loss: 3247877128192.0000 - mean_squared_error: 3247877128192.0000 - val_loss: 5077005762560.0000 - val_mean_squared_error: 5077005762560.0000\n",
            "Epoch 74/100\n",
            "\u001b[1m28/28\u001b[0m \u001b[32m━━━━━━━━━━━━━━━━━━━━\u001b[0m\u001b[37m\u001b[0m \u001b[1m0s\u001b[0m 5ms/step - loss: 2998159015936.0000 - mean_squared_error: 2998159015936.0000 - val_loss: 5284758028288.0000 - val_mean_squared_error: 5284758028288.0000\n",
            "Epoch 75/100\n",
            "\u001b[1m28/28\u001b[0m \u001b[32m━━━━━━━━━━━━━━━━━━━━\u001b[0m\u001b[37m\u001b[0m \u001b[1m0s\u001b[0m 5ms/step - loss: 2762840473600.0000 - mean_squared_error: 2762840473600.0000 - val_loss: 5350424576000.0000 - val_mean_squared_error: 5350424576000.0000\n",
            "Epoch 76/100\n",
            "\u001b[1m28/28\u001b[0m \u001b[32m━━━━━━━━━━━━━━━━━━━━\u001b[0m\u001b[37m\u001b[0m \u001b[1m0s\u001b[0m 5ms/step - loss: 3009100644352.0000 - mean_squared_error: 3009100644352.0000 - val_loss: 5292842024960.0000 - val_mean_squared_error: 5292842024960.0000\n",
            "Epoch 77/100\n",
            "\u001b[1m28/28\u001b[0m \u001b[32m━━━━━━━━━━━━━━━━━━━━\u001b[0m\u001b[37m\u001b[0m \u001b[1m0s\u001b[0m 6ms/step - loss: 3596098207744.0000 - mean_squared_error: 3596098207744.0000 - val_loss: 5249639120896.0000 - val_mean_squared_error: 5249639120896.0000\n",
            "Epoch 78/100\n",
            "\u001b[1m28/28\u001b[0m \u001b[32m━━━━━━━━━━━━━━━━━━━━\u001b[0m\u001b[37m\u001b[0m \u001b[1m0s\u001b[0m 5ms/step - loss: 3136238387200.0000 - mean_squared_error: 3136238387200.0000 - val_loss: 5317896699904.0000 - val_mean_squared_error: 5317896699904.0000\n",
            "Epoch 79/100\n",
            "\u001b[1m28/28\u001b[0m \u001b[32m━━━━━━━━━━━━━━━━━━━━\u001b[0m\u001b[37m\u001b[0m \u001b[1m0s\u001b[0m 4ms/step - loss: 3502515421184.0000 - mean_squared_error: 3502515421184.0000 - val_loss: 5647998386176.0000 - val_mean_squared_error: 5647998386176.0000\n",
            "Epoch 80/100\n",
            "\u001b[1m28/28\u001b[0m \u001b[32m━━━━━━━━━━━━━━━━━━━━\u001b[0m\u001b[37m\u001b[0m \u001b[1m0s\u001b[0m 4ms/step - loss: 3021396508672.0000 - mean_squared_error: 3021396508672.0000 - val_loss: 5218134130688.0000 - val_mean_squared_error: 5218134130688.0000\n",
            "Epoch 81/100\n",
            "\u001b[1m28/28\u001b[0m \u001b[32m━━━━━━━━━━━━━━━━━━━━\u001b[0m\u001b[37m\u001b[0m \u001b[1m0s\u001b[0m 5ms/step - loss: 3170970632192.0000 - mean_squared_error: 3170970632192.0000 - val_loss: 5430943678464.0000 - val_mean_squared_error: 5430943678464.0000\n",
            "Epoch 82/100\n",
            "\u001b[1m28/28\u001b[0m \u001b[32m━━━━━━━━━━━━━━━━━━━━\u001b[0m\u001b[37m\u001b[0m \u001b[1m0s\u001b[0m 6ms/step - loss: 3395146481664.0000 - mean_squared_error: 3395146481664.0000 - val_loss: 5107993280512.0000 - val_mean_squared_error: 5107993280512.0000\n",
            "Epoch 83/100\n",
            "\u001b[1m28/28\u001b[0m \u001b[32m━━━━━━━━━━━━━━━━━━━━\u001b[0m\u001b[37m\u001b[0m \u001b[1m0s\u001b[0m 4ms/step - loss: 3444226654208.0000 - mean_squared_error: 3444226654208.0000 - val_loss: 5059804397568.0000 - val_mean_squared_error: 5059804397568.0000\n",
            "Epoch 84/100\n",
            "\u001b[1m28/28\u001b[0m \u001b[32m━━━━━━━━━━━━━━━━━━━━\u001b[0m\u001b[37m\u001b[0m \u001b[1m0s\u001b[0m 4ms/step - loss: 3075915907072.0000 - mean_squared_error: 3075915907072.0000 - val_loss: 5246928551936.0000 - val_mean_squared_error: 5246928551936.0000\n",
            "Epoch 85/100\n",
            "\u001b[1m28/28\u001b[0m \u001b[32m━━━━━━━━━━━━━━━━━━━━\u001b[0m\u001b[37m\u001b[0m \u001b[1m0s\u001b[0m 4ms/step - loss: 3090025283584.0000 - mean_squared_error: 3090025283584.0000 - val_loss: 5210556071936.0000 - val_mean_squared_error: 5210556071936.0000\n",
            "Epoch 86/100\n",
            "\u001b[1m28/28\u001b[0m \u001b[32m━━━━━━━━━━━━━━━━━━━━\u001b[0m\u001b[37m\u001b[0m \u001b[1m0s\u001b[0m 9ms/step - loss: 3471397093376.0000 - mean_squared_error: 3471397093376.0000 - val_loss: 5251084058624.0000 - val_mean_squared_error: 5251084058624.0000\n",
            "Epoch 87/100\n",
            "\u001b[1m28/28\u001b[0m \u001b[32m━━━━━━━━━━━━━━━━━━━━\u001b[0m\u001b[37m\u001b[0m \u001b[1m0s\u001b[0m 7ms/step - loss: 2748368027648.0000 - mean_squared_error: 2748368027648.0000 - val_loss: 5093881544704.0000 - val_mean_squared_error: 5093881544704.0000\n",
            "Epoch 88/100\n",
            "\u001b[1m28/28\u001b[0m \u001b[32m━━━━━━━━━━━━━━━━━━━━\u001b[0m\u001b[37m\u001b[0m \u001b[1m0s\u001b[0m 6ms/step - loss: 3053301530624.0000 - mean_squared_error: 3053301530624.0000 - val_loss: 5259698634752.0000 - val_mean_squared_error: 5259698634752.0000\n",
            "Epoch 89/100\n",
            "\u001b[1m28/28\u001b[0m \u001b[32m━━━━━━━━━━━━━━━━━━━━\u001b[0m\u001b[37m\u001b[0m \u001b[1m0s\u001b[0m 6ms/step - loss: 3553466515456.0000 - mean_squared_error: 3553466515456.0000 - val_loss: 5128713666560.0000 - val_mean_squared_error: 5128713666560.0000\n",
            "Epoch 90/100\n",
            "\u001b[1m28/28\u001b[0m \u001b[32m━━━━━━━━━━━━━━━━━━━━\u001b[0m\u001b[37m\u001b[0m \u001b[1m0s\u001b[0m 12ms/step - loss: 3394668331008.0000 - mean_squared_error: 3394668331008.0000 - val_loss: 5098196959232.0000 - val_mean_squared_error: 5098196959232.0000\n",
            "Epoch 91/100\n",
            "\u001b[1m28/28\u001b[0m \u001b[32m━━━━━━━━━━━━━━━━━━━━\u001b[0m\u001b[37m\u001b[0m \u001b[1m1s\u001b[0m 17ms/step - loss: 3123623231488.0000 - mean_squared_error: 3123623231488.0000 - val_loss: 5333770567680.0000 - val_mean_squared_error: 5333770567680.0000\n",
            "Epoch 92/100\n",
            "\u001b[1m28/28\u001b[0m \u001b[32m━━━━━━━━━━━━━━━━━━━━\u001b[0m\u001b[37m\u001b[0m \u001b[1m0s\u001b[0m 12ms/step - loss: 3362977480704.0000 - mean_squared_error: 3362977480704.0000 - val_loss: 5056636125184.0000 - val_mean_squared_error: 5056636125184.0000\n",
            "Epoch 93/100\n",
            "\u001b[1m28/28\u001b[0m \u001b[32m━━━━━━━━━━━━━━━━━━━━\u001b[0m\u001b[37m\u001b[0m \u001b[1m1s\u001b[0m 8ms/step - loss: 3091091161088.0000 - mean_squared_error: 3091091161088.0000 - val_loss: 5280625590272.0000 - val_mean_squared_error: 5280625590272.0000\n",
            "Epoch 94/100\n",
            "\u001b[1m28/28\u001b[0m \u001b[32m━━━━━━━━━━━━━━━━━━━━\u001b[0m\u001b[37m\u001b[0m \u001b[1m0s\u001b[0m 11ms/step - loss: 3215625289728.0000 - mean_squared_error: 3215625289728.0000 - val_loss: 5055606423552.0000 - val_mean_squared_error: 5055606423552.0000\n",
            "Epoch 95/100\n",
            "\u001b[1m28/28\u001b[0m \u001b[32m━━━━━━━━━━━━━━━━━━━━\u001b[0m\u001b[37m\u001b[0m \u001b[1m1s\u001b[0m 8ms/step - loss: 3124207288320.0000 - mean_squared_error: 3124207288320.0000 - val_loss: 5144760025088.0000 - val_mean_squared_error: 5144760025088.0000\n",
            "Epoch 96/100\n",
            "\u001b[1m28/28\u001b[0m \u001b[32m━━━━━━━━━━━━━━━━━━━━\u001b[0m\u001b[37m\u001b[0m \u001b[1m0s\u001b[0m 10ms/step - loss: 2922675699712.0000 - mean_squared_error: 2922675699712.0000 - val_loss: 5069031342080.0000 - val_mean_squared_error: 5069031342080.0000\n",
            "Epoch 97/100\n",
            "\u001b[1m28/28\u001b[0m \u001b[32m━━━━━━━━━━━━━━━━━━━━\u001b[0m\u001b[37m\u001b[0m \u001b[1m0s\u001b[0m 8ms/step - loss: 3032115838976.0000 - mean_squared_error: 3032115838976.0000 - val_loss: 5064012333056.0000 - val_mean_squared_error: 5064012333056.0000\n",
            "Epoch 98/100\n",
            "\u001b[1m28/28\u001b[0m \u001b[32m━━━━━━━━━━━━━━━━━━━━\u001b[0m\u001b[37m\u001b[0m \u001b[1m0s\u001b[0m 5ms/step - loss: 3065381650432.0000 - mean_squared_error: 3065381650432.0000 - val_loss: 5640762687488.0000 - val_mean_squared_error: 5640762687488.0000\n",
            "Epoch 99/100\n",
            "\u001b[1m28/28\u001b[0m \u001b[32m━━━━━━━━━━━━━━━━━━━━\u001b[0m\u001b[37m\u001b[0m \u001b[1m0s\u001b[0m 5ms/step - loss: 3144369307648.0000 - mean_squared_error: 3144369307648.0000 - val_loss: 5081866960896.0000 - val_mean_squared_error: 5081866960896.0000\n",
            "Epoch 100/100\n",
            "\u001b[1m28/28\u001b[0m \u001b[32m━━━━━━━━━━━━━━━━━━━━\u001b[0m\u001b[37m\u001b[0m \u001b[1m0s\u001b[0m 4ms/step - loss: 3344314662912.0000 - mean_squared_error: 3344314662912.0000 - val_loss: 5323150065664.0000 - val_mean_squared_error: 5323150065664.0000\n"
          ]
        }
      ]
    },
    {
      "cell_type": "code",
      "source": [
        "# Calculate the training error\n",
        "train_loss, train_mse = model.evaluate(X_train, y_train)\n",
        "print(f\"Training MSE: {train_mse}\")\n",
        "\n",
        "# Calculate the testing error\n",
        "test_loss, test_mse = model.evaluate(X_test, y_test)\n",
        "print(f\"Testing MSE: {test_mse}\")\n"
      ],
      "metadata": {
        "colab": {
          "base_uri": "https://localhost:8080/"
        },
        "id": "11Ha2XJHczcE",
        "outputId": "c8b28592-c882-4441-f16f-f42076968a88"
      },
      "execution_count": 4,
      "outputs": [
        {
          "output_type": "stream",
          "name": "stdout",
          "text": [
            "\u001b[1m14/14\u001b[0m \u001b[32m━━━━━━━━━━━━━━━━━━━━\u001b[0m\u001b[37m\u001b[0m \u001b[1m0s\u001b[0m 6ms/step - loss: 3155694714880.0000 - mean_squared_error: 3155694714880.0000 \n",
            "Training MSE: 3130584203264.0\n",
            "\u001b[1m4/4\u001b[0m \u001b[32m━━━━━━━━━━━━━━━━━━━━\u001b[0m\u001b[37m\u001b[0m \u001b[1m0s\u001b[0m 14ms/step - loss: 5352194048000.0000 - mean_squared_error: 5352194048000.0000\n",
            "Testing MSE: 5323150065664.0\n"
          ]
        }
      ]
    },
    {
      "cell_type": "code",
      "source": [
        "# Save the trained model\n",
        "model.save('housing_price_model.h5')\n"
      ],
      "metadata": {
        "colab": {
          "base_uri": "https://localhost:8080/"
        },
        "id": "z6y3Z2alc98U",
        "outputId": "253be8e8-466b-4356-ca1b-0a34cd13f6fa"
      },
      "execution_count": 5,
      "outputs": [
        {
          "output_type": "stream",
          "name": "stderr",
          "text": [
            "WARNING:absl:You are saving your model as an HDF5 file via `model.save()` or `keras.saving.save_model(model)`. This file format is considered legacy. We recommend using instead the native Keras format, e.g. `model.save('my_model.keras')` or `keras.saving.save_model(model, 'my_model.keras')`. \n"
          ]
        }
      ]
    },
    {
      "cell_type": "code",
      "source": [
        "from tensorflow.keras.models import load_model\n",
        "\n",
        "# Load the saved model\n",
        "loaded_model = load_model('housing_price_model.h5')\n",
        "\n",
        "# Make predictions on the test data\n",
        "predictions = loaded_model.predict(X_test)\n",
        "\n",
        "# Example: Compare predictions with actual values\n",
        "for actual, predicted in zip(y_test[:10], predictions[:10]):\n",
        "    print(f\"Actual: {actual}, Predicted: {predicted[0]}\")\n"
      ],
      "metadata": {
        "colab": {
          "base_uri": "https://localhost:8080/"
        },
        "id": "cZEUrXTgc_pc",
        "outputId": "8ff6eeea-d292-4f09-ef65-957cf4b5d701"
      },
      "execution_count": 6,
      "outputs": [
        {
          "output_type": "stream",
          "name": "stderr",
          "text": [
            "WARNING:absl:Compiled the loaded model, but the compiled metrics have yet to be built. `model.compile_metrics` will be empty until you train or evaluate the model.\n"
          ]
        },
        {
          "output_type": "stream",
          "name": "stdout",
          "text": [
            "\u001b[1m4/4\u001b[0m \u001b[32m━━━━━━━━━━━━━━━━━━━━\u001b[0m\u001b[37m\u001b[0m \u001b[1m0s\u001b[0m 52ms/step\n",
            "Actual: 4060000, Predicted: 4489290.0\n",
            "Actual: 6650000, Predicted: 4489290.0\n",
            "Actual: 3710000, Predicted: 4489290.0\n",
            "Actual: 6440000, Predicted: 4489290.0\n",
            "Actual: 2800000, Predicted: 4489290.0\n",
            "Actual: 4900000, Predicted: 4489290.0\n",
            "Actual: 5250000, Predicted: 4489290.0\n",
            "Actual: 4543000, Predicted: 4489290.0\n",
            "Actual: 2450000, Predicted: 4489290.0\n",
            "Actual: 3353000, Predicted: 4489290.0\n"
          ]
        }
      ]
    }
  ]
}