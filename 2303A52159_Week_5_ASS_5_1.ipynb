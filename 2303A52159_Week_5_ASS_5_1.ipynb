{
  "nbformat": 4,
  "nbformat_minor": 0,
  "metadata": {
    "colab": {
      "provenance": [],
      "authorship_tag": "ABX9TyMKntX6Wp9WpfkLCkQyDt0+",
      "include_colab_link": true
    },
    "kernelspec": {
      "name": "python3",
      "display_name": "Python 3"
    },
    "language_info": {
      "name": "python"
    }
  },
  "cells": [
    {
      "cell_type": "markdown",
      "metadata": {
        "id": "view-in-github",
        "colab_type": "text"
      },
      "source": [
        "<a href=\"https://colab.research.google.com/github/thotasriharsha/GENERATIVE-AI2/blob/main/2303A52159_Week_5_ASS_5_1.ipynb\" target=\"_parent\"><img src=\"https://colab.research.google.com/assets/colab-badge.svg\" alt=\"Open In Colab\"/></a>"
      ]
    },
    {
      "cell_type": "markdown",
      "source": [
        "Q) Design a multi-layer ANN architecture with one input, one hidden, and one output\n",
        "layer. Assume a linear activation function in the output layer and a sigmoid activation function\n",
        "in the hidden layer.\n",
        "• Write Python code for a backpropagation algorithm with gradient descent optimization to\n",
        "update weights and bias parameters of the ANN model with training data shown in Table\n",
        "1.\n",
        "• Calculate the mean square error with training and testing data shown in Table 2.\n",
        "• Write Python code that reads the input data [x1 and x2] from the user. Predict the output\n",
        "with deployed ANN model\n",
        "Tabela 1: Training Data\n",
        "x1 x2 y\n",
        "0.1 0.2 0.3432\n",
        "0.2 0.3 0.3490\n",
        "0.3 0.4 0.3548\n",
        "0.6 0.7 0.3720\n",
        "0.7 0.8 0.3776\n",
        "0.8 0.9 0.3832\n",
        "Tabela 2: Test Data\n",
        "x1 x2 y\n",
        "0.4 0.5 0.3606\n",
        "0.5 0.6 0.3663"
      ],
      "metadata": {
        "id": "L4EXGOmVP8C-"
      }
    },
    {
      "cell_type": "code",
      "source": [
        "import numpy as np\n",
        "def sigmoid(x):\n",
        "    return 1 / (1 + np.exp(-x))\n",
        "\n",
        "def sigmoid_derivative(x):\n",
        "    return x * (1 - x)\n",
        "def mse(y_true, y_pred):\n",
        "    return np.mean((y_true - y_pred) ** 2)\n",
        "X_train = np.array([[0.1, 0.2], [0.2, 0.3], [0.3, 0.4], [0.6, 0.7], [0.7, 0.8], [0.8, 0.9]])\n",
        "y_train = np.array([[0.3432], [0.3490], [0.3548], [0.3720], [0.3776], [0.3832]])\n",
        "X_test = np.array([[0.4, 0.5], [0.5, 0.6]])\n",
        "y_test = np.array([[0.3606], [0.3663]])\n",
        "input_size = 2\n",
        "hidden_size = 4\n",
        "output_size = 1\n",
        "learning_rate = 0.1\n",
        "epochs = 10000\n",
        "np.random.seed(42)\n",
        "W1 = np.random.randn(input_size, hidden_size)\n",
        "b1 = np.zeros((1, hidden_size))\n",
        "W2 = np.random.randn(hidden_size, output_size)\n",
        "b2 = np.zeros((1, output_size))\n",
        "for epoch in range(epochs):\n",
        "\n",
        "    hidden_layer_input = np.dot(X_train, W1) + b1\n",
        "    hidden_layer_output = sigmoid(hidden_layer_input)\n",
        "    output_layer_input = np.dot(hidden_layer_output, W2) + b2\n",
        "    y_pred = output_layer_input\n",
        "\n",
        "    loss = mse(y_train, y_pred)\n",
        "\n",
        "\n",
        "    error_output = y_pred - y_train\n",
        "    dW2 = np.dot(hidden_layer_output.T, error_output)\n",
        "    db2 = np.sum(error_output, axis=0, keepdims=True)\n",
        "\n",
        "    error_hidden = np.dot(error_output, W2.T) * sigmoid_derivative(hidden_layer_output)\n",
        "    dW1 = np.dot(X_train.T, error_hidden)\n",
        "    db1 = np.sum(error_hidden, axis=0, keepdims=True)\n",
        "\n",
        "    W1 -= learning_rate * dW1\n",
        "    b1 -= learning_rate * db1\n",
        "    W2 -= learning_rate * dW2\n",
        "    b2 -= learning_rate * db2\n",
        "\n",
        "    if epoch % 1000 == 0:\n",
        "        print(f\"Epoch {epoch}, Loss: {loss:.6f}\")\n",
        "\n",
        "\n",
        "y_train_pred = np.dot(sigmoid(np.dot(X_train, W1) + b1), W2) + b2\n",
        "y_test_pred = np.dot(sigmoid(np.dot(X_test, W1) + b1), W2) + b2\n",
        "print(\"Training MSE:\", mse(y_train, y_train_pred))\n",
        "print(\"Testing MSE:\", mse(y_test, y_test_pred))\n",
        "\n",
        "def predict(x1, x2):\n",
        "    X_input = np.array([[x1, x2]])\n",
        "    hidden_layer = sigmoid(np.dot(X_input, W1) + b1)\n",
        "    output_layer = np.dot(hidden_layer, W2) + b2\n",
        "    return output_layer[0][0]\n",
        "x1 = float(input(\"Enter x1: \"))\n",
        "x2 = float(input(\"Enter x2: \"))\n",
        "prediction = predict(x1, x2)\n",
        "print(f\"Predicted output: {prediction:.6f}\")\n",
        "\n"
      ],
      "metadata": {
        "colab": {
          "base_uri": "https://localhost:8080/"
        },
        "id": "K1l_QzYtQBze",
        "outputId": "23395d34-3b4e-4904-aa0d-9c6848373ceb"
      },
      "execution_count": 1,
      "outputs": [
        {
          "output_type": "stream",
          "name": "stdout",
          "text": [
            "Epoch 0, Loss: 1.125008\n",
            "Epoch 1000, Loss: 0.000002\n",
            "Epoch 2000, Loss: 0.000002\n",
            "Epoch 3000, Loss: 0.000002\n",
            "Epoch 4000, Loss: 0.000002\n",
            "Epoch 5000, Loss: 0.000002\n",
            "Epoch 6000, Loss: 0.000002\n",
            "Epoch 7000, Loss: 0.000002\n",
            "Epoch 8000, Loss: 0.000002\n",
            "Epoch 9000, Loss: 0.000001\n",
            "Training MSE: 1.4582856112748197e-06\n",
            "Testing MSE: 3.960921222357537e-06\n",
            "Enter x1: 0.1\n",
            "Enter x2: 0.2\n",
            "Predicted output: 0.341819\n"
          ]
        }
      ]
    }
  ]
}