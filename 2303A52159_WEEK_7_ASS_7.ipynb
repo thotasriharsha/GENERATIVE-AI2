{
  "nbformat": 4,
  "nbformat_minor": 0,
  "metadata": {
    "colab": {
      "provenance": [],
      "authorship_tag": "ABX9TyOxpBCRmwQRy+DRJ/EeDkwb",
      "include_colab_link": true
    },
    "kernelspec": {
      "name": "python3",
      "display_name": "Python 3"
    },
    "language_info": {
      "name": "python"
    }
  },
  "cells": [
    {
      "cell_type": "markdown",
      "metadata": {
        "id": "view-in-github",
        "colab_type": "text"
      },
      "source": [
        "<a href=\"https://colab.research.google.com/github/thotasriharsha/GENERATIVE-AI2/blob/main/2303A52159_WEEK_7_ASS_7.ipynb\" target=\"_parent\"><img src=\"https://colab.research.google.com/assets/colab-badge.svg\" alt=\"Open In Colab\"/></a>"
      ]
    },
    {
      "cell_type": "markdown",
      "source": [
        "\n",
        "1. (1 ponto) Design a multilayer ANN architecture according to the requirements shown below.\n",
        "Train, test, save (.h5) and deploy the model to diagnose diabatic disease using the Keras deep\n",
        "learning library\n",
        "2. (1 ponto) Calculate training and testing accuracy, build confusion matrix, also calculate recall,\n",
        "precision and F1-score.\n",
        "3. (1 ponto) Build the application by loading the saved ANN model.\n",
        "Tabela 1: ANN Architecture\n",
        "Layer Neurons Activation Function\n",
        "Hidden Layer - 1 8 relu\n",
        "Hidden Layer - 2 16 relu\n",
        "Hidden Layer - 3 20 relu\n",
        "Hidden Layer - 4 10 relu\n",
        "Tabela 2: Training Parameters\n",
        "epochs batch size error metric Optimizer\n",
        "150 64 accuracy adadelta\n",
        "\n"
      ],
      "metadata": {
        "id": "4etJI-Gxjaqm"
      }
    },
    {
      "cell_type": "code",
      "source": [
        "import numpy as np\n",
        "import pandas as pd\n",
        "from keras.models import Sequential\n",
        "from keras.layers import Dense\n",
        "from keras.optimizers import Adadelta\n",
        "from sklearn.model_selection import train_test_split\n",
        "from sklearn.preprocessing import StandardScaler\n",
        "from sklearn.metrics import confusion_matrix, classification_report\n",
        "import matplotlib.pyplot as plt\n",
        "import seaborn as sns\n",
        "\n",
        "# Load the dataset from the URL\n",
        "url = \"/content/Housing (3).csv\"\n",
        "column_names = [\n",
        "    'Pregnancies', 'Glucose', 'BloodPressure', 'SkinThickness', 'Insulin',\n",
        "    'BMI', 'DiabetesPedigreeFunction', 'Age', 'Outcome'\n",
        "]\n",
        "\n",
        "# Load the dataset into a pandas DataFrame\n",
        "df = pd.read_csv(url, header=None, names=column_names)\n",
        "\n",
        "# Preview the dataset\n",
        "print(df.head())\n"
      ],
      "metadata": {
        "colab": {
          "base_uri": "https://localhost:8080/"
        },
        "id": "Rg3DqoSliDeG",
        "outputId": "cc1818e8-e971-4775-8969-646f6afafb4a"
      },
      "execution_count": 2,
      "outputs": [
        {
          "output_type": "stream",
          "name": "stdout",
          "text": [
            "                                 Pregnancies   Glucose BloodPressure  \\\n",
            "price    area bedrooms bathrooms     stories  mainroad     guestroom   \n",
            "13300000 7420 4        2                   3       yes            no   \n",
            "12250000 8960 4        4                   4       yes            no   \n",
            "         9960 3        2                   2       yes            no   \n",
            "12215000 7500 4        2                   2       yes            no   \n",
            "\n",
            "                                 SkinThickness          Insulin  \\\n",
            "price    area bedrooms bathrooms      basement  hotwaterheating   \n",
            "13300000 7420 4        2                    no               no   \n",
            "12250000 8960 4        4                    no               no   \n",
            "         9960 3        2                   yes               no   \n",
            "12215000 7500 4        2                   yes               no   \n",
            "\n",
            "                                              BMI DiabetesPedigreeFunction  \\\n",
            "price    area bedrooms bathrooms  airconditioning                  parking   \n",
            "13300000 7420 4        2                      yes                        2   \n",
            "12250000 8960 4        4                      yes                        3   \n",
            "         9960 3        2                       no                        2   \n",
            "12215000 7500 4        2                      yes                        3   \n",
            "\n",
            "                                       Age           Outcome  \n",
            "price    area bedrooms bathrooms  prefarea  furnishingstatus  \n",
            "13300000 7420 4        2               yes         furnished  \n",
            "12250000 8960 4        4                no         furnished  \n",
            "         9960 3        2               yes    semi-furnished  \n",
            "12215000 7500 4        2               yes         furnished  \n"
          ]
        }
      ]
    },
    {
      "cell_type": "code",
      "source": [
        "# Features (X) and Target (y)\n",
        "X = df.drop(columns='Outcome')\n",
        "y = df['Outcome']\n",
        "\n",
        "# Convert columns to numeric, handling errors\n",
        "for column in X.columns:\n",
        "    try:\n",
        "        # Apply pd.to_numeric to each element individually\n",
        "        X[column] = X[column].apply(pd.to_numeric, errors='coerce')\n",
        "    except ValueError:\n",
        "        print(f\"Column '{column}' contains non-numeric values. Handling or removing them is recommended.\")\n",
        "        # Here, you can choose to handle the non-numeric values in a way that suits your data:\n",
        "        # 1. Remove rows with non-numeric values:\n",
        "        # X = X[pd.to_numeric(X[column], errors='coerce').notna()]\n",
        "        # 2. Replace non-numeric values with a specific value (e.g., mean, median):\n",
        "        # X[column] = pd.to_numeric(X[column], errors='coerce').fillna(X[column].mean())\n",
        "        # 3. Implement other custom handling logic based on your understanding of the data.\n",
        "\n",
        "    # Impute missing values after conversion\n",
        "    # Choose an appropriate strategy (mean, median, etc.)\n",
        "    X[column] = X[column].fillna(X[column].mean())\n",
        "\n",
        "# Normalize the features using StandardScaler\n",
        "scaler = StandardScaler()\n",
        "X_scaled = scaler.fit_transform(X)\n",
        "\n",
        "# Split the dataset into training and testing sets (80% train, 20% test)\n",
        "X_train, X_test, y_train, y_test = train_test_split(X_scaled, y, test_size=0.2, random_state=42)\n",
        "\n",
        "# Check the shape of the splits\n",
        "print(f'X_train shape: {X_train.shape}, X_test shape: {X_test.shape}')"
      ],
      "metadata": {
        "colab": {
          "base_uri": "https://localhost:8080/"
        },
        "id": "3PHiD-0QiyX1",
        "outputId": "55ecaf9f-5773-42b6-cc40-94326993aa1d"
      },
      "execution_count": 4,
      "outputs": [
        {
          "output_type": "stream",
          "name": "stdout",
          "text": [
            "X_train shape: (436, 8), X_test shape: (110, 8)\n"
          ]
        },
        {
          "output_type": "stream",
          "name": "stderr",
          "text": [
            "/usr/local/lib/python3.11/dist-packages/sklearn/utils/extmath.py:1101: RuntimeWarning: invalid value encountered in divide\n",
            "  updated_mean = (last_sum + new_sum) / updated_sample_count\n",
            "/usr/local/lib/python3.11/dist-packages/sklearn/utils/extmath.py:1106: RuntimeWarning: invalid value encountered in divide\n",
            "  T = new_sum / new_sample_count\n",
            "/usr/local/lib/python3.11/dist-packages/sklearn/utils/extmath.py:1126: RuntimeWarning: invalid value encountered in divide\n",
            "  new_unnormalized_variance -= correction**2 / new_sample_count\n"
          ]
        }
      ]
    },
    {
      "cell_type": "code",
      "source": [
        "# Create the model\n",
        "model = Sequential()\n",
        "\n",
        "# Adding the hidden layers\n",
        "model.add(Dense(8, input_dim=X_train.shape[1], activation='relu'))  # First hidden layer\n",
        "model.add(Dense(16, activation='relu'))  # Second hidden layer\n",
        "model.add(Dense(20, activation='relu'))  # Third hidden layer\n",
        "model.add(Dense(10, activation='relu'))  # Fourth hidden layer\n",
        "model.add(Dense(1, activation='sigmoid'))  # Output layer (sigmoid for binary classification)\n",
        "\n",
        "# Compile the model\n",
        "model.compile(optimizer=Adadelta(), loss='binary_crossentropy', metrics=['accuracy'])\n",
        "\n",
        "# Summarize the model architecture\n",
        "model.summary()"
      ],
      "metadata": {
        "colab": {
          "base_uri": "https://localhost:8080/",
          "height": 361
        },
        "id": "067vwHr5i5Zc",
        "outputId": "bd42325b-de27-4dee-d432-f68b046fb82f"
      },
      "execution_count": 5,
      "outputs": [
        {
          "output_type": "stream",
          "name": "stderr",
          "text": [
            "/usr/local/lib/python3.11/dist-packages/keras/src/layers/core/dense.py:87: UserWarning: Do not pass an `input_shape`/`input_dim` argument to a layer. When using Sequential models, prefer using an `Input(shape)` object as the first layer in the model instead.\n",
            "  super().__init__(activity_regularizer=activity_regularizer, **kwargs)\n"
          ]
        },
        {
          "output_type": "display_data",
          "data": {
            "text/plain": [
              "\u001b[1mModel: \"sequential\"\u001b[0m\n"
            ],
            "text/html": [
              "<pre style=\"white-space:pre;overflow-x:auto;line-height:normal;font-family:Menlo,'DejaVu Sans Mono',consolas,'Courier New',monospace\"><span style=\"font-weight: bold\">Model: \"sequential\"</span>\n",
              "</pre>\n"
            ]
          },
          "metadata": {}
        },
        {
          "output_type": "display_data",
          "data": {
            "text/plain": [
              "┏━━━━━━━━━━━━━━━━━━━━━━━━━━━━━━━━━━━━━━┳━━━━━━━━━━━━━━━━━━━━━━━━━━━━━┳━━━━━━━━━━━━━━━━━┓\n",
              "┃\u001b[1m \u001b[0m\u001b[1mLayer (type)                        \u001b[0m\u001b[1m \u001b[0m┃\u001b[1m \u001b[0m\u001b[1mOutput Shape               \u001b[0m\u001b[1m \u001b[0m┃\u001b[1m \u001b[0m\u001b[1m        Param #\u001b[0m\u001b[1m \u001b[0m┃\n",
              "┡━━━━━━━━━━━━━━━━━━━━━━━━━━━━━━━━━━━━━━╇━━━━━━━━━━━━━━━━━━━━━━━━━━━━━╇━━━━━━━━━━━━━━━━━┩\n",
              "│ dense (\u001b[38;5;33mDense\u001b[0m)                        │ (\u001b[38;5;45mNone\u001b[0m, \u001b[38;5;34m8\u001b[0m)                   │              \u001b[38;5;34m72\u001b[0m │\n",
              "├──────────────────────────────────────┼─────────────────────────────┼─────────────────┤\n",
              "│ dense_1 (\u001b[38;5;33mDense\u001b[0m)                      │ (\u001b[38;5;45mNone\u001b[0m, \u001b[38;5;34m16\u001b[0m)                  │             \u001b[38;5;34m144\u001b[0m │\n",
              "├──────────────────────────────────────┼─────────────────────────────┼─────────────────┤\n",
              "│ dense_2 (\u001b[38;5;33mDense\u001b[0m)                      │ (\u001b[38;5;45mNone\u001b[0m, \u001b[38;5;34m20\u001b[0m)                  │             \u001b[38;5;34m340\u001b[0m │\n",
              "├──────────────────────────────────────┼─────────────────────────────┼─────────────────┤\n",
              "│ dense_3 (\u001b[38;5;33mDense\u001b[0m)                      │ (\u001b[38;5;45mNone\u001b[0m, \u001b[38;5;34m10\u001b[0m)                  │             \u001b[38;5;34m210\u001b[0m │\n",
              "├──────────────────────────────────────┼─────────────────────────────┼─────────────────┤\n",
              "│ dense_4 (\u001b[38;5;33mDense\u001b[0m)                      │ (\u001b[38;5;45mNone\u001b[0m, \u001b[38;5;34m1\u001b[0m)                   │              \u001b[38;5;34m11\u001b[0m │\n",
              "└──────────────────────────────────────┴─────────────────────────────┴─────────────────┘\n"
            ],
            "text/html": [
              "<pre style=\"white-space:pre;overflow-x:auto;line-height:normal;font-family:Menlo,'DejaVu Sans Mono',consolas,'Courier New',monospace\">┏━━━━━━━━━━━━━━━━━━━━━━━━━━━━━━━━━━━━━━┳━━━━━━━━━━━━━━━━━━━━━━━━━━━━━┳━━━━━━━━━━━━━━━━━┓\n",
              "┃<span style=\"font-weight: bold\"> Layer (type)                         </span>┃<span style=\"font-weight: bold\"> Output Shape                </span>┃<span style=\"font-weight: bold\">         Param # </span>┃\n",
              "┡━━━━━━━━━━━━━━━━━━━━━━━━━━━━━━━━━━━━━━╇━━━━━━━━━━━━━━━━━━━━━━━━━━━━━╇━━━━━━━━━━━━━━━━━┩\n",
              "│ dense (<span style=\"color: #0087ff; text-decoration-color: #0087ff\">Dense</span>)                        │ (<span style=\"color: #00d7ff; text-decoration-color: #00d7ff\">None</span>, <span style=\"color: #00af00; text-decoration-color: #00af00\">8</span>)                   │              <span style=\"color: #00af00; text-decoration-color: #00af00\">72</span> │\n",
              "├──────────────────────────────────────┼─────────────────────────────┼─────────────────┤\n",
              "│ dense_1 (<span style=\"color: #0087ff; text-decoration-color: #0087ff\">Dense</span>)                      │ (<span style=\"color: #00d7ff; text-decoration-color: #00d7ff\">None</span>, <span style=\"color: #00af00; text-decoration-color: #00af00\">16</span>)                  │             <span style=\"color: #00af00; text-decoration-color: #00af00\">144</span> │\n",
              "├──────────────────────────────────────┼─────────────────────────────┼─────────────────┤\n",
              "│ dense_2 (<span style=\"color: #0087ff; text-decoration-color: #0087ff\">Dense</span>)                      │ (<span style=\"color: #00d7ff; text-decoration-color: #00d7ff\">None</span>, <span style=\"color: #00af00; text-decoration-color: #00af00\">20</span>)                  │             <span style=\"color: #00af00; text-decoration-color: #00af00\">340</span> │\n",
              "├──────────────────────────────────────┼─────────────────────────────┼─────────────────┤\n",
              "│ dense_3 (<span style=\"color: #0087ff; text-decoration-color: #0087ff\">Dense</span>)                      │ (<span style=\"color: #00d7ff; text-decoration-color: #00d7ff\">None</span>, <span style=\"color: #00af00; text-decoration-color: #00af00\">10</span>)                  │             <span style=\"color: #00af00; text-decoration-color: #00af00\">210</span> │\n",
              "├──────────────────────────────────────┼─────────────────────────────┼─────────────────┤\n",
              "│ dense_4 (<span style=\"color: #0087ff; text-decoration-color: #0087ff\">Dense</span>)                      │ (<span style=\"color: #00d7ff; text-decoration-color: #00d7ff\">None</span>, <span style=\"color: #00af00; text-decoration-color: #00af00\">1</span>)                   │              <span style=\"color: #00af00; text-decoration-color: #00af00\">11</span> │\n",
              "└──────────────────────────────────────┴─────────────────────────────┴─────────────────┘\n",
              "</pre>\n"
            ]
          },
          "metadata": {}
        },
        {
          "output_type": "display_data",
          "data": {
            "text/plain": [
              "\u001b[1m Total params: \u001b[0m\u001b[38;5;34m777\u001b[0m (3.04 KB)\n"
            ],
            "text/html": [
              "<pre style=\"white-space:pre;overflow-x:auto;line-height:normal;font-family:Menlo,'DejaVu Sans Mono',consolas,'Courier New',monospace\"><span style=\"font-weight: bold\"> Total params: </span><span style=\"color: #00af00; text-decoration-color: #00af00\">777</span> (3.04 KB)\n",
              "</pre>\n"
            ]
          },
          "metadata": {}
        },
        {
          "output_type": "display_data",
          "data": {
            "text/plain": [
              "\u001b[1m Trainable params: \u001b[0m\u001b[38;5;34m777\u001b[0m (3.04 KB)\n"
            ],
            "text/html": [
              "<pre style=\"white-space:pre;overflow-x:auto;line-height:normal;font-family:Menlo,'DejaVu Sans Mono',consolas,'Courier New',monospace\"><span style=\"font-weight: bold\"> Trainable params: </span><span style=\"color: #00af00; text-decoration-color: #00af00\">777</span> (3.04 KB)\n",
              "</pre>\n"
            ]
          },
          "metadata": {}
        },
        {
          "output_type": "display_data",
          "data": {
            "text/plain": [
              "\u001b[1m Non-trainable params: \u001b[0m\u001b[38;5;34m0\u001b[0m (0.00 B)\n"
            ],
            "text/html": [
              "<pre style=\"white-space:pre;overflow-x:auto;line-height:normal;font-family:Menlo,'DejaVu Sans Mono',consolas,'Courier New',monospace\"><span style=\"font-weight: bold\"> Non-trainable params: </span><span style=\"color: #00af00; text-decoration-color: #00af00\">0</span> (0.00 B)\n",
              "</pre>\n"
            ]
          },
          "metadata": {}
        }
      ]
    },
    {
      "cell_type": "code",
      "source": [
        "# Features (X) and Target (y)\n",
        "X = df.drop(columns='Outcome')\n",
        "y = df['Outcome']\n",
        "\n",
        "# Convert columns to numeric, handling errors\n",
        "for column in X.columns:\n",
        "    try:\n",
        "        # Apply pd.to_numeric to each element individually\n",
        "        X[column] = X[column].apply(pd.to_numeric, errors='coerce')\n",
        "    except ValueError:\n",
        "        print(f\"Column '{column}' contains non-numeric values. Handling or removing them is recommended.\")\n",
        "        # Here, you can choose to handle the non-numeric values in a way that suits your data:\n",
        "        # 1. Remove rows with non-numeric values:\n",
        "        # X = X[pd.to_numeric(X[column], errors='coerce').notna()]\n",
        "        # 2. Replace non-numeric values with a specific value (e.g., mean, median):\n",
        "        # X[column] = pd.to_numeric(X[column], errors='coerce').fillna(X[column].mean())\n",
        "        # 3. Implement other custom handling logic based on your understanding of the data.\n",
        "\n",
        "    # Impute missing values after conversion\n",
        "    # Choose an appropriate strategy (mean, median, etc.)\n",
        "    X[column] = X[column].fillna(X[column].mean())\n",
        "\n",
        "# Convert 'Outcome' column to numeric (int or float)\n",
        "y = pd.to_numeric(y, errors='coerce')\n",
        "# If there are non-numeric values in 'Outcome', you might need to handle them:\n",
        "# For example, replace non-numeric with the most frequent value:\n",
        "# y = y.fillna(y.mode()[0]).astype(int) # Replace with mode and convert to int\n",
        "\n",
        "# Normalize the features using StandardScaler\n",
        "scaler = StandardScaler()\n",
        "X_scaled = scaler.fit_transform(X)\n",
        "\n",
        "# Split the dataset into training and testing sets (80% train, 20% test)\n",
        "X_train, X_test, y_train, y_test = train_test_split(X_scaled, y, test_size=0.2, random_state=42)\n",
        "\n",
        "# Check the shape of the splits\n",
        "print(f'X_train shape: {X_train.shape}, X_test shape: {X_test.shape}')"
      ],
      "metadata": {
        "colab": {
          "base_uri": "https://localhost:8080/"
        },
        "id": "OQ9ecprfjAU8",
        "outputId": "7ea60d26-d926-48ab-a29c-8317b3703489"
      },
      "execution_count": 6,
      "outputs": [
        {
          "output_type": "stream",
          "name": "stdout",
          "text": [
            "X_train shape: (436, 8), X_test shape: (110, 8)\n"
          ]
        },
        {
          "output_type": "stream",
          "name": "stderr",
          "text": [
            "/usr/local/lib/python3.11/dist-packages/sklearn/utils/extmath.py:1101: RuntimeWarning: invalid value encountered in divide\n",
            "  updated_mean = (last_sum + new_sum) / updated_sample_count\n",
            "/usr/local/lib/python3.11/dist-packages/sklearn/utils/extmath.py:1106: RuntimeWarning: invalid value encountered in divide\n",
            "  T = new_sum / new_sample_count\n",
            "/usr/local/lib/python3.11/dist-packages/sklearn/utils/extmath.py:1126: RuntimeWarning: invalid value encountered in divide\n",
            "  new_unnormalized_variance -= correction**2 / new_sample_count\n"
          ]
        }
      ]
    },
    {
      "cell_type": "code",
      "source": [
        "# Features (X) and Target (y)\n",
        "X = df.drop(columns='Outcome')\n",
        "y = df['Outcome']\n",
        "\n",
        "# Convert columns to numeric, handling errors\n",
        "for column in X.columns:\n",
        "    try:\n",
        "        # Apply pd.to_numeric to each element individually\n",
        "        X[column] = X[column].apply(pd.to_numeric, errors='coerce')\n",
        "    except ValueError:\n",
        "        print(f\"Column '{column}' contains non-numeric values. Handling or removing them is recommended.\")\n",
        "        # Here, you can choose to handle the non-numeric values in a way that suits your data:\n",
        "        # 1. Remove rows with non-numeric values:\n",
        "        # X = X[pd.to_numeric(X[column], errors='coerce').notna()]\n",
        "        # 2. Replace non-numeric values with a specific value (e.g., mean, median):\n",
        "        # X[column] = pd.to_numeric(X[column], errors='coerce').fillna(X[column].mean())\n",
        "        # 3. Implement other custom handling logic based on your understanding of the data.\n",
        "\n",
        "    # Impute missing values after conversion\n",
        "    # Choose an appropriate strategy (mean, median, etc.)\n",
        "    X[column] = X[column].fillna(X[column].mean())\n",
        "\n",
        "# Convert 'Outcome' column to numeric (int or float)\n",
        "y = pd.to_numeric(y, errors='coerce')\n",
        "# If there are non-numeric values in 'Outcome', you might need to handle them:\n",
        "# For example, replace non-numeric with the most frequent value:\n",
        "#y = y.fillna(y.mode()[0]).astype(int) # Replace with mode and convert to int\n",
        "\n",
        "#Handle NaN values in 'Outcome' by replacing them with the most frequent value\n",
        "# Check if y.mode() is empty before accessing element 0\n",
        "if not y.mode().empty:\n",
        "    y = y.fillna(y.mode()[0]) # Replace NaN with mode\n",
        "else:\n",
        "    # Handle the case where there is no mode (e.g., all unique values)\n",
        "    # You might want to fill with a different value or strategy\n",
        "    y = y.fillna(y.mean())  # Example: Fill with the mean\n",
        "\n",
        "# Normalize the features using StandardScaler\n",
        "scaler = StandardScaler()\n",
        "X_scaled = scaler.fit_transform(X)\n",
        "\n",
        "# Split the dataset into training and testing sets (80% train, 20% test)\n",
        "X_train, X_test, y_train, y_test = train_test_split(X_scaled, y, test_size=0.2, random_state=42)\n",
        "\n",
        "# Check the shape of the splits\n",
        "print(f'X_train shape: {X_train.shape}, X_test shape: {X_test.shape}')"
      ],
      "metadata": {
        "colab": {
          "base_uri": "https://localhost:8080/"
        },
        "id": "9_9MiLXMjHys",
        "outputId": "fabf46dc-92b8-4710-c7cc-c4f95c939828"
      },
      "execution_count": 7,
      "outputs": [
        {
          "output_type": "stream",
          "name": "stdout",
          "text": [
            "X_train shape: (436, 8), X_test shape: (110, 8)\n"
          ]
        },
        {
          "output_type": "stream",
          "name": "stderr",
          "text": [
            "/usr/local/lib/python3.11/dist-packages/sklearn/utils/extmath.py:1101: RuntimeWarning: invalid value encountered in divide\n",
            "  updated_mean = (last_sum + new_sum) / updated_sample_count\n",
            "/usr/local/lib/python3.11/dist-packages/sklearn/utils/extmath.py:1106: RuntimeWarning: invalid value encountered in divide\n",
            "  T = new_sum / new_sample_count\n",
            "/usr/local/lib/python3.11/dist-packages/sklearn/utils/extmath.py:1126: RuntimeWarning: invalid value encountered in divide\n",
            "  new_unnormalized_variance -= correction**2 / new_sample_count\n"
          ]
        }
      ]
    },
    {
      "cell_type": "code",
      "source": [
        "# Save the trained model\n",
        "model.save('diabetes_model.h5')\n",
        "print(\"Model saved as 'diabetes_model.h5'\")\n"
      ],
      "metadata": {
        "colab": {
          "base_uri": "https://localhost:8080/"
        },
        "id": "vjUFln9tjPot",
        "outputId": "88f29644-8bc5-4003-c42c-50afe44b9a26"
      },
      "execution_count": 8,
      "outputs": [
        {
          "output_type": "stream",
          "name": "stderr",
          "text": [
            "WARNING:absl:You are saving your model as an HDF5 file via `model.save()` or `keras.saving.save_model(model)`. This file format is considered legacy. We recommend using instead the native Keras format, e.g. `model.save('my_model.keras')` or `keras.saving.save_model(model, 'my_model.keras')`. \n"
          ]
        },
        {
          "output_type": "stream",
          "name": "stdout",
          "text": [
            "Model saved as 'diabetes_model.h5'\n"
          ]
        }
      ]
    },
    {
      "cell_type": "code",
      "source": [
        "from keras.models import load_model\n",
        "\n",
        "# Load the saved model\n",
        "loaded_model = load_model('diabetes_model.h5')\n",
        "\n",
        "# Make a prediction on a new example (let's use the first row from the test set)\n",
        "new_data = X_test[0].reshape(1, -1)  # Reshape the data to match the input shape\n",
        "prediction = (loaded_model.predict(new_data) > 0.5).astype(int)\n",
        "\n",
        "# Print the prediction result\n",
        "print(f'Prediction: {\"Positive\" if prediction == 1 else \"Negative\"}')\n"
      ],
      "metadata": {
        "colab": {
          "base_uri": "https://localhost:8080/"
        },
        "id": "Ed--rZk_jUol",
        "outputId": "89f27bd0-8af3-48bc-d794-51c52fcdc208"
      },
      "execution_count": 9,
      "outputs": [
        {
          "output_type": "stream",
          "name": "stderr",
          "text": [
            "WARNING:absl:Compiled the loaded model, but the compiled metrics have yet to be built. `model.compile_metrics` will be empty until you train or evaluate the model.\n"
          ]
        },
        {
          "output_type": "stream",
          "name": "stdout",
          "text": [
            "\u001b[1m1/1\u001b[0m \u001b[32m━━━━━━━━━━━━━━━━━━━━\u001b[0m\u001b[37m\u001b[0m \u001b[1m0s\u001b[0m 171ms/step\n",
            "Prediction: Negative\n"
          ]
        }
      ]
    }
  ]
}